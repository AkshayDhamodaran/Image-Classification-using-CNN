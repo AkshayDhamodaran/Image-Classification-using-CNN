{
 "cells": [
  {
   "cell_type": "code",
   "execution_count": 1,
   "id": "38c22f85",
   "metadata": {},
   "outputs": [],
   "source": [
    "import tensorflow as tf\n",
    "from keras.preprocessing.image import ImageDataGenerator"
   ]
  },
  {
   "cell_type": "code",
   "execution_count": 2,
   "id": "d2110cda",
   "metadata": {},
   "outputs": [],
   "source": [
    "import numpy as np\n",
    "from keras.preprocessing import image"
   ]
  },
  {
   "cell_type": "code",
   "execution_count": 3,
   "id": "d6500cbd",
   "metadata": {},
   "outputs": [
    {
     "data": {
      "text/plain": [
       "'2.9.1'"
      ]
     },
     "execution_count": 3,
     "metadata": {},
     "output_type": "execute_result"
    }
   ],
   "source": [
    "tf.__version__"
   ]
  },
  {
   "cell_type": "code",
   "execution_count": 4,
   "id": "668e6b5c",
   "metadata": {},
   "outputs": [
    {
     "name": "stdout",
     "output_type": "stream",
     "text": [
      "Found 8000 images belonging to 2 classes.\n",
      "Found 2000 images belonging to 2 classes.\n"
     ]
    }
   ],
   "source": [
    "train_datagen = ImageDataGenerator(\n",
    "                rescale = 1./255,\n",
    "                shear_range = 0.2,\n",
    "                zoom_range = 0.2,\n",
    "                horizontal_flip = True)\n",
    "training_set = train_datagen.flow_from_directory(\n",
    "                r'C:\\Users\\akshayd6\\Desktop\\MyModels\\CNN\\Section 40 - Convolutional Neural Networks (CNN)\\dataset\\training_set',\n",
    "                target_size = (64,64),\n",
    "                batch_size = 32,\n",
    "                class_mode = 'binary')\n",
    "test_datagen = ImageDataGenerator(rescale = 1./255)\n",
    "test_set = test_datagen.flow_from_directory(\n",
    "                r'C:\\Users\\akshayd6\\Desktop\\MyModels\\CNN\\Section 40 - Convolutional Neural Networks (CNN)\\dataset\\test_set',\n",
    "                target_size = (64,64),\n",
    "                batch_size = 32,\n",
    "                class_mode = 'binary')"
   ]
  },
  {
   "cell_type": "code",
   "execution_count": 5,
   "id": "711a62f7",
   "metadata": {},
   "outputs": [
    {
     "data": {
      "text/plain": [
       "{'cats': 0, 'dogs': 1}"
      ]
     },
     "execution_count": 5,
     "metadata": {},
     "output_type": "execute_result"
    }
   ],
   "source": [
    "training_set.class_indices"
   ]
  },
  {
   "cell_type": "code",
   "execution_count": 6,
   "id": "31e4316f",
   "metadata": {},
   "outputs": [],
   "source": [
    "test_image = tf.keras.preprocessing.image.load_img(r\"C:\\Users\\akshayd6\\Desktop\\MyModels\\CNN\\Section 40 - Convolutional Neural Networks (CNN)\\dataset\\single_prediction\\cat_or_dog_1.jpg\",\n",
    "                            target_size = (64,64))\n",
    "test_image = tf.keras.preprocessing.image.img_to_array(test_image)\n",
    "test_image = np.expand_dims(test_image, axis = 0)"
   ]
  },
  {
   "cell_type": "code",
   "execution_count": 7,
   "id": "7107bdf1",
   "metadata": {},
   "outputs": [],
   "source": [
    "from tensorflow.keras.models import Sequential\n",
    "from tensorflow.keras.layers import Conv2D, Dense, Activation, Dropout, Input, MaxPooling2D, Flatten\n",
    "from tensorflow.keras import regularizers"
   ]
  },
  {
   "cell_type": "code",
   "execution_count": 8,
   "id": "9357babc",
   "metadata": {},
   "outputs": [],
   "source": [
    "cnn = Sequential()"
   ]
  },
  {
   "cell_type": "code",
   "execution_count": 9,
   "id": "37dc508e",
   "metadata": {},
   "outputs": [],
   "source": [
    "cnn.add(Conv2D(filters = 32, kernel_size = 3, activation = 'relu', input_shape = (64,64,3), padding = 'same'))\n",
    "cnn.add(MaxPooling2D(pool_size = (2,2), strides = 2))\n",
    "cnn.add(Conv2D(filters = 32, kernel_size = 3, activation = 'relu', padding = 'same'))\n",
    "cnn.add(MaxPooling2D(pool_size = (2,2), strides = 2))\n",
    "cnn.add(Flatten())\n",
    "cnn.add(Dense(units = 128, activation = 'relu',kernel_regularizer = regularizers.l2(0.001)))\n",
    "cnn.add(Dense(units = 1, activation = 'sigmoid'))"
   ]
  },
  {
   "cell_type": "code",
   "execution_count": 10,
   "id": "a8524647",
   "metadata": {},
   "outputs": [],
   "source": [
    "cnn.compile(optimizer = 'adam', loss = 'binary_crossentropy', metrics = 'accuracy')"
   ]
  },
  {
   "cell_type": "code",
   "execution_count": 11,
   "id": "c0b19f4e",
   "metadata": {},
   "outputs": [
    {
     "name": "stdout",
     "output_type": "stream",
     "text": [
      "Epoch 1/100\n",
      "250/250 [==============================] - 55s 215ms/step - loss: 0.7034 - accuracy: 0.6035 - val_loss: 0.6335 - val_accuracy: 0.6595\n",
      "Epoch 2/100\n",
      "250/250 [==============================] - 50s 199ms/step - loss: 0.6319 - accuracy: 0.6669 - val_loss: 0.6089 - val_accuracy: 0.6960\n",
      "Epoch 3/100\n",
      "250/250 [==============================] - 48s 190ms/step - loss: 0.6026 - accuracy: 0.6991 - val_loss: 0.5861 - val_accuracy: 0.7200\n",
      "Epoch 4/100\n",
      "250/250 [==============================] - 47s 187ms/step - loss: 0.5841 - accuracy: 0.7122 - val_loss: 0.5692 - val_accuracy: 0.7365\n",
      "Epoch 5/100\n",
      "250/250 [==============================] - 47s 187ms/step - loss: 0.5674 - accuracy: 0.7322 - val_loss: 0.5443 - val_accuracy: 0.7510\n",
      "Epoch 6/100\n",
      "250/250 [==============================] - 46s 182ms/step - loss: 0.5475 - accuracy: 0.7481 - val_loss: 0.5276 - val_accuracy: 0.7660\n",
      "Epoch 7/100\n",
      "250/250 [==============================] - 48s 191ms/step - loss: 0.5294 - accuracy: 0.7559 - val_loss: 0.5428 - val_accuracy: 0.7640\n",
      "Epoch 8/100\n",
      "250/250 [==============================] - 47s 189ms/step - loss: 0.5188 - accuracy: 0.7704 - val_loss: 0.5674 - val_accuracy: 0.7460\n",
      "Epoch 9/100\n",
      "250/250 [==============================] - 47s 189ms/step - loss: 0.5137 - accuracy: 0.7661 - val_loss: 0.5149 - val_accuracy: 0.7795\n",
      "Epoch 10/100\n",
      "250/250 [==============================] - 54s 215ms/step - loss: 0.5082 - accuracy: 0.7765 - val_loss: 0.5038 - val_accuracy: 0.7850\n",
      "Epoch 11/100\n",
      "250/250 [==============================] - 96s 384ms/step - loss: 0.5040 - accuracy: 0.7751 - val_loss: 0.5544 - val_accuracy: 0.7630\n",
      "Epoch 12/100\n",
      "250/250 [==============================] - 99s 397ms/step - loss: 0.4966 - accuracy: 0.7829 - val_loss: 0.5151 - val_accuracy: 0.7825\n",
      "Epoch 13/100\n",
      "250/250 [==============================] - 94s 378ms/step - loss: 0.4883 - accuracy: 0.7924 - val_loss: 0.4808 - val_accuracy: 0.7975\n",
      "Epoch 14/100\n",
      "250/250 [==============================] - 102s 409ms/step - loss: 0.4831 - accuracy: 0.7965 - val_loss: 0.4924 - val_accuracy: 0.7895\n",
      "Epoch 15/100\n",
      "250/250 [==============================] - 109s 436ms/step - loss: 0.4780 - accuracy: 0.7972 - val_loss: 0.4719 - val_accuracy: 0.8140\n",
      "Epoch 16/100\n",
      "250/250 [==============================] - 94s 377ms/step - loss: 0.4747 - accuracy: 0.7975 - val_loss: 0.4737 - val_accuracy: 0.8055\n",
      "Epoch 17/100\n",
      "250/250 [==============================] - 92s 370ms/step - loss: 0.4717 - accuracy: 0.7964 - val_loss: 0.4723 - val_accuracy: 0.8120\n",
      "Epoch 18/100\n",
      "250/250 [==============================] - 94s 377ms/step - loss: 0.4615 - accuracy: 0.8073 - val_loss: 0.5758 - val_accuracy: 0.7620\n",
      "Epoch 19/100\n",
      "250/250 [==============================] - 89s 355ms/step - loss: 0.4568 - accuracy: 0.8126 - val_loss: 0.4670 - val_accuracy: 0.8110\n",
      "Epoch 20/100\n",
      "250/250 [==============================] - 98s 394ms/step - loss: 0.4553 - accuracy: 0.8152 - val_loss: 0.4831 - val_accuracy: 0.8040\n",
      "Epoch 21/100\n",
      "250/250 [==============================] - 126s 503ms/step - loss: 0.4534 - accuracy: 0.8129 - val_loss: 0.4989 - val_accuracy: 0.7960\n",
      "Epoch 22/100\n",
      "250/250 [==============================] - 209s 838ms/step - loss: 0.4486 - accuracy: 0.8196 - val_loss: 0.4998 - val_accuracy: 0.7940\n",
      "Epoch 23/100\n",
      "250/250 [==============================] - 107s 427ms/step - loss: 0.4439 - accuracy: 0.8151 - val_loss: 0.4704 - val_accuracy: 0.8030\n",
      "Epoch 24/100\n",
      "250/250 [==============================] - 88s 354ms/step - loss: 0.4493 - accuracy: 0.8136 - val_loss: 0.4579 - val_accuracy: 0.8180\n",
      "Epoch 25/100\n",
      "250/250 [==============================] - 97s 387ms/step - loss: 0.4381 - accuracy: 0.8213 - val_loss: 0.4933 - val_accuracy: 0.8035\n",
      "Epoch 26/100\n",
      "250/250 [==============================] - 106s 425ms/step - loss: 0.4306 - accuracy: 0.8309 - val_loss: 0.4772 - val_accuracy: 0.8080\n",
      "Epoch 27/100\n",
      "250/250 [==============================] - 115s 460ms/step - loss: 0.4342 - accuracy: 0.8280 - val_loss: 0.5109 - val_accuracy: 0.7955\n",
      "Epoch 28/100\n",
      "250/250 [==============================] - 101s 404ms/step - loss: 0.4340 - accuracy: 0.8311 - val_loss: 0.5414 - val_accuracy: 0.7740\n",
      "Epoch 29/100\n",
      "250/250 [==============================] - 98s 392ms/step - loss: 0.4294 - accuracy: 0.8345 - val_loss: 0.4712 - val_accuracy: 0.8180\n",
      "Epoch 30/100\n",
      "250/250 [==============================] - 97s 387ms/step - loss: 0.4302 - accuracy: 0.8305 - val_loss: 0.4833 - val_accuracy: 0.8195\n",
      "Epoch 31/100\n",
      "250/250 [==============================] - 95s 381ms/step - loss: 0.4213 - accuracy: 0.8372 - val_loss: 0.4785 - val_accuracy: 0.8110\n",
      "Epoch 32/100\n",
      "250/250 [==============================] - 109s 437ms/step - loss: 0.4248 - accuracy: 0.8351 - val_loss: 0.4732 - val_accuracy: 0.8180\n",
      "Epoch 33/100\n",
      "250/250 [==============================] - 110s 442ms/step - loss: 0.4191 - accuracy: 0.8418 - val_loss: 0.4845 - val_accuracy: 0.8115\n",
      "Epoch 34/100\n",
      "250/250 [==============================] - 54s 218ms/step - loss: 0.4151 - accuracy: 0.8393 - val_loss: 0.4827 - val_accuracy: 0.8255\n",
      "Epoch 35/100\n",
      "250/250 [==============================] - 46s 182ms/step - loss: 0.4140 - accuracy: 0.8428 - val_loss: 0.4793 - val_accuracy: 0.8130\n",
      "Epoch 36/100\n",
      "250/250 [==============================] - 47s 186ms/step - loss: 0.4148 - accuracy: 0.8451 - val_loss: 0.4850 - val_accuracy: 0.8115\n",
      "Epoch 37/100\n",
      "250/250 [==============================] - 46s 185ms/step - loss: 0.4110 - accuracy: 0.8479 - val_loss: 0.4737 - val_accuracy: 0.8170\n",
      "Epoch 38/100\n",
      "250/250 [==============================] - 46s 185ms/step - loss: 0.4025 - accuracy: 0.8541 - val_loss: 0.4961 - val_accuracy: 0.8075\n",
      "Epoch 39/100\n",
      "250/250 [==============================] - 46s 182ms/step - loss: 0.3977 - accuracy: 0.8550 - val_loss: 0.4798 - val_accuracy: 0.8235\n",
      "Epoch 40/100\n",
      "250/250 [==============================] - 48s 190ms/step - loss: 0.4018 - accuracy: 0.8530 - val_loss: 0.4882 - val_accuracy: 0.8230\n",
      "Epoch 41/100\n",
      "250/250 [==============================] - 46s 185ms/step - loss: 0.4028 - accuracy: 0.8553 - val_loss: 0.5599 - val_accuracy: 0.7895\n",
      "Epoch 42/100\n",
      "250/250 [==============================] - 47s 187ms/step - loss: 0.4043 - accuracy: 0.8508 - val_loss: 0.4819 - val_accuracy: 0.8315\n",
      "Epoch 43/100\n",
      "250/250 [==============================] - 48s 194ms/step - loss: 0.4004 - accuracy: 0.8539 - val_loss: 0.4883 - val_accuracy: 0.8200\n",
      "Epoch 44/100\n",
      "250/250 [==============================] - 47s 186ms/step - loss: 0.4086 - accuracy: 0.8581 - val_loss: 0.4742 - val_accuracy: 0.8295\n",
      "Epoch 45/100\n",
      "250/250 [==============================] - 47s 189ms/step - loss: 0.3934 - accuracy: 0.8560 - val_loss: 0.4903 - val_accuracy: 0.8185\n",
      "Epoch 46/100\n",
      "250/250 [==============================] - 47s 187ms/step - loss: 0.3975 - accuracy: 0.8600 - val_loss: 0.5071 - val_accuracy: 0.8190\n",
      "Epoch 47/100\n",
      "250/250 [==============================] - 46s 184ms/step - loss: 0.3901 - accuracy: 0.8662 - val_loss: 0.4925 - val_accuracy: 0.8250\n",
      "Epoch 48/100\n",
      "250/250 [==============================] - 47s 189ms/step - loss: 0.3818 - accuracy: 0.8704 - val_loss: 0.5181 - val_accuracy: 0.8235\n",
      "Epoch 49/100\n",
      "250/250 [==============================] - 49s 196ms/step - loss: 0.3902 - accuracy: 0.8660 - val_loss: 0.4919 - val_accuracy: 0.8270\n",
      "Epoch 50/100\n",
      "250/250 [==============================] - 48s 191ms/step - loss: 0.3817 - accuracy: 0.8733 - val_loss: 0.4851 - val_accuracy: 0.8165\n",
      "Epoch 51/100\n",
      "250/250 [==============================] - 50s 201ms/step - loss: 0.3816 - accuracy: 0.8712 - val_loss: 0.5230 - val_accuracy: 0.8160\n",
      "Epoch 52/100\n",
      "250/250 [==============================] - 48s 190ms/step - loss: 0.3796 - accuracy: 0.8730 - val_loss: 0.5014 - val_accuracy: 0.8255\n",
      "Epoch 53/100\n",
      "250/250 [==============================] - 93s 372ms/step - loss: 0.3722 - accuracy: 0.8739 - val_loss: 0.5156 - val_accuracy: 0.8145\n",
      "Epoch 54/100\n",
      "250/250 [==============================] - 89s 357ms/step - loss: 0.3782 - accuracy: 0.8725 - val_loss: 0.5162 - val_accuracy: 0.8155\n",
      "Epoch 55/100\n",
      "250/250 [==============================] - 88s 352ms/step - loss: 0.3767 - accuracy: 0.8776 - val_loss: 0.5169 - val_accuracy: 0.8220\n",
      "Epoch 56/100\n",
      "250/250 [==============================] - 85s 342ms/step - loss: 0.3691 - accuracy: 0.8825 - val_loss: 0.4979 - val_accuracy: 0.8355\n"
     ]
    },
    {
     "name": "stdout",
     "output_type": "stream",
     "text": [
      "Epoch 57/100\n",
      "250/250 [==============================] - 89s 354ms/step - loss: 0.3670 - accuracy: 0.8821 - val_loss: 0.5217 - val_accuracy: 0.8285\n",
      "Epoch 58/100\n",
      "250/250 [==============================] - 89s 358ms/step - loss: 0.3630 - accuracy: 0.8859 - val_loss: 0.5183 - val_accuracy: 0.8210\n",
      "Epoch 59/100\n",
      "250/250 [==============================] - 89s 355ms/step - loss: 0.3594 - accuracy: 0.8894 - val_loss: 0.5359 - val_accuracy: 0.8200\n",
      "Epoch 60/100\n",
      "250/250 [==============================] - 92s 367ms/step - loss: 0.3634 - accuracy: 0.8890 - val_loss: 0.5253 - val_accuracy: 0.8275\n",
      "Epoch 61/100\n",
      "250/250 [==============================] - 88s 354ms/step - loss: 0.3515 - accuracy: 0.8878 - val_loss: 0.5156 - val_accuracy: 0.8225\n",
      "Epoch 62/100\n",
      "250/250 [==============================] - 87s 348ms/step - loss: 0.3611 - accuracy: 0.8874 - val_loss: 0.5790 - val_accuracy: 0.8205\n",
      "Epoch 63/100\n",
      "250/250 [==============================] - 98s 391ms/step - loss: 0.3576 - accuracy: 0.8866 - val_loss: 0.5122 - val_accuracy: 0.8275\n",
      "Epoch 64/100\n",
      "250/250 [==============================] - 101s 406ms/step - loss: 0.3597 - accuracy: 0.8867 - val_loss: 0.5916 - val_accuracy: 0.8000\n",
      "Epoch 65/100\n",
      "250/250 [==============================] - 87s 346ms/step - loss: 0.3618 - accuracy: 0.8891 - val_loss: 0.5403 - val_accuracy: 0.8265\n",
      "Epoch 66/100\n",
      "250/250 [==============================] - 87s 348ms/step - loss: 0.3554 - accuracy: 0.8934 - val_loss: 0.5592 - val_accuracy: 0.8130\n",
      "Epoch 67/100\n",
      "250/250 [==============================] - 101s 403ms/step - loss: 0.3568 - accuracy: 0.8911 - val_loss: 0.6181 - val_accuracy: 0.7995\n",
      "Epoch 68/100\n",
      "250/250 [==============================] - 94s 377ms/step - loss: 0.3542 - accuracy: 0.8915 - val_loss: 0.5430 - val_accuracy: 0.8195\n",
      "Epoch 69/100\n",
      "250/250 [==============================] - 89s 356ms/step - loss: 0.3525 - accuracy: 0.8931 - val_loss: 0.5637 - val_accuracy: 0.8135\n",
      "Epoch 70/100\n",
      "250/250 [==============================] - 89s 356ms/step - loss: 0.3503 - accuracy: 0.8954 - val_loss: 0.5516 - val_accuracy: 0.8150\n",
      "Epoch 71/100\n",
      "250/250 [==============================] - 94s 375ms/step - loss: 0.3464 - accuracy: 0.8996 - val_loss: 0.5739 - val_accuracy: 0.8110\n",
      "Epoch 72/100\n",
      "250/250 [==============================] - 95s 381ms/step - loss: 0.3375 - accuracy: 0.9041 - val_loss: 0.6100 - val_accuracy: 0.8170\n",
      "Epoch 73/100\n",
      "250/250 [==============================] - 94s 376ms/step - loss: 0.3574 - accuracy: 0.8945 - val_loss: 0.5709 - val_accuracy: 0.8110\n",
      "Epoch 74/100\n",
      "250/250 [==============================] - 87s 350ms/step - loss: 0.3429 - accuracy: 0.9019 - val_loss: 0.6006 - val_accuracy: 0.8270\n",
      "Epoch 75/100\n",
      "250/250 [==============================] - 91s 363ms/step - loss: 0.3504 - accuracy: 0.8996 - val_loss: 0.5643 - val_accuracy: 0.8165\n",
      "Epoch 76/100\n",
      "250/250 [==============================] - 85s 339ms/step - loss: 0.3395 - accuracy: 0.9001 - val_loss: 0.5748 - val_accuracy: 0.8250\n",
      "Epoch 77/100\n",
      "250/250 [==============================] - 94s 376ms/step - loss: 0.3380 - accuracy: 0.9078 - val_loss: 0.5948 - val_accuracy: 0.8200\n",
      "Epoch 78/100\n",
      "250/250 [==============================] - 88s 352ms/step - loss: 0.3506 - accuracy: 0.8970 - val_loss: 0.5813 - val_accuracy: 0.8100\n",
      "Epoch 79/100\n",
      "250/250 [==============================] - 85s 338ms/step - loss: 0.3347 - accuracy: 0.9047 - val_loss: 0.5751 - val_accuracy: 0.8165\n",
      "Epoch 80/100\n",
      "250/250 [==============================] - 90s 362ms/step - loss: 0.3207 - accuracy: 0.9116 - val_loss: 0.6327 - val_accuracy: 0.8230\n",
      "Epoch 81/100\n",
      "250/250 [==============================] - 93s 373ms/step - loss: 0.3447 - accuracy: 0.9020 - val_loss: 0.5877 - val_accuracy: 0.8190\n",
      "Epoch 82/100\n",
      "250/250 [==============================] - 85s 342ms/step - loss: 0.3321 - accuracy: 0.9085 - val_loss: 0.6024 - val_accuracy: 0.8145\n",
      "Epoch 83/100\n",
      "250/250 [==============================] - 89s 355ms/step - loss: 0.3441 - accuracy: 0.9000 - val_loss: 0.6227 - val_accuracy: 0.8165\n",
      "Epoch 84/100\n",
      "250/250 [==============================] - 87s 348ms/step - loss: 0.3273 - accuracy: 0.9151 - val_loss: 0.6088 - val_accuracy: 0.8170\n",
      "Epoch 85/100\n",
      "250/250 [==============================] - 88s 351ms/step - loss: 0.3454 - accuracy: 0.9064 - val_loss: 0.6167 - val_accuracy: 0.8130\n",
      "Epoch 86/100\n",
      "250/250 [==============================] - 85s 342ms/step - loss: 0.3376 - accuracy: 0.9060 - val_loss: 0.6239 - val_accuracy: 0.8105\n",
      "Epoch 87/100\n",
      "250/250 [==============================] - 58s 230ms/step - loss: 0.3344 - accuracy: 0.9066 - val_loss: 0.5640 - val_accuracy: 0.8235\n",
      "Epoch 88/100\n",
      "250/250 [==============================] - 53s 212ms/step - loss: 0.3323 - accuracy: 0.9079 - val_loss: 0.6148 - val_accuracy: 0.8185\n",
      "Epoch 89/100\n",
      "250/250 [==============================] - 46s 185ms/step - loss: 0.3271 - accuracy: 0.9100 - val_loss: 0.5700 - val_accuracy: 0.8225\n",
      "Epoch 90/100\n",
      "250/250 [==============================] - 46s 184ms/step - loss: 0.3239 - accuracy: 0.9103 - val_loss: 0.6068 - val_accuracy: 0.8200\n",
      "Epoch 91/100\n",
      "250/250 [==============================] - 45s 182ms/step - loss: 0.3229 - accuracy: 0.9141 - val_loss: 0.6145 - val_accuracy: 0.8175\n",
      "Epoch 92/100\n",
      "250/250 [==============================] - 46s 183ms/step - loss: 0.3236 - accuracy: 0.9159 - val_loss: 0.6061 - val_accuracy: 0.8120\n",
      "Epoch 93/100\n",
      "250/250 [==============================] - 46s 186ms/step - loss: 0.3274 - accuracy: 0.9122 - val_loss: 0.5767 - val_accuracy: 0.8250\n",
      "Epoch 94/100\n",
      "250/250 [==============================] - 48s 193ms/step - loss: 0.3196 - accuracy: 0.9161 - val_loss: 0.5608 - val_accuracy: 0.8305\n",
      "Epoch 95/100\n",
      "250/250 [==============================] - 46s 183ms/step - loss: 0.3397 - accuracy: 0.9072 - val_loss: 0.6175 - val_accuracy: 0.8125\n",
      "Epoch 96/100\n",
      "250/250 [==============================] - 48s 191ms/step - loss: 0.3316 - accuracy: 0.9082 - val_loss: 0.6314 - val_accuracy: 0.8210\n",
      "Epoch 97/100\n",
      "250/250 [==============================] - 46s 184ms/step - loss: 0.3299 - accuracy: 0.9122 - val_loss: 0.6455 - val_accuracy: 0.8090\n",
      "Epoch 98/100\n",
      "250/250 [==============================] - 45s 181ms/step - loss: 0.3261 - accuracy: 0.9120 - val_loss: 0.6502 - val_accuracy: 0.8155\n",
      "Epoch 99/100\n",
      "250/250 [==============================] - 47s 187ms/step - loss: 0.3238 - accuracy: 0.9143 - val_loss: 0.6349 - val_accuracy: 0.8200\n",
      "Epoch 100/100\n",
      "250/250 [==============================] - 46s 185ms/step - loss: 0.3211 - accuracy: 0.9165 - val_loss: 0.6842 - val_accuracy: 0.8100\n"
     ]
    },
    {
     "data": {
      "text/plain": [
       "<keras.callbacks.History at 0x2717b002ee0>"
      ]
     },
     "execution_count": 11,
     "metadata": {},
     "output_type": "execute_result"
    }
   ],
   "source": [
    "cnn.fit(x = training_set, validation_data = test_set, epochs = 100)"
   ]
  },
  {
   "cell_type": "code",
   "execution_count": 16,
   "id": "0eb59747",
   "metadata": {},
   "outputs": [
    {
     "name": "stdout",
     "output_type": "stream",
     "text": [
      "1/1 [==============================] - 0s 16ms/step\n"
     ]
    }
   ],
   "source": [
    "result = cnn.predict(test_image)"
   ]
  },
  {
   "cell_type": "code",
   "execution_count": 17,
   "id": "7af6b76f",
   "metadata": {},
   "outputs": [],
   "source": [
    "if result[0][0] == 1:\n",
    "    prediction = 'dog'\n",
    "else:\n",
    "    prediction = 'cat'"
   ]
  },
  {
   "cell_type": "code",
   "execution_count": 18,
   "id": "35fec060",
   "metadata": {},
   "outputs": [
    {
     "name": "stdout",
     "output_type": "stream",
     "text": [
      "dog\n"
     ]
    }
   ],
   "source": [
    "print(prediction)"
   ]
  },
  {
   "cell_type": "code",
   "execution_count": 19,
   "id": "ba2a1ece",
   "metadata": {},
   "outputs": [
    {
     "data": {
      "text/plain": [
       "array([[1.]], dtype=float32)"
      ]
     },
     "execution_count": 19,
     "metadata": {},
     "output_type": "execute_result"
    }
   ],
   "source": [
    "result"
   ]
  }
 ],
 "metadata": {
  "kernelspec": {
   "display_name": "Python 3 (ipykernel)",
   "language": "python",
   "name": "python3"
  },
  "language_info": {
   "codemirror_mode": {
    "name": "ipython",
    "version": 3
   },
   "file_extension": ".py",
   "mimetype": "text/x-python",
   "name": "python",
   "nbconvert_exporter": "python",
   "pygments_lexer": "ipython3",
   "version": "3.9.12"
  }
 },
 "nbformat": 4,
 "nbformat_minor": 5
}
